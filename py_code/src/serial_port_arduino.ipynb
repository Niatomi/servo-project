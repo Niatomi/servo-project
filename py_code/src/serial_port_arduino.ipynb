{
 "cells": [
  {
   "cell_type": "code",
   "execution_count": null,
   "metadata": {},
   "outputs": [],
   "source": [
    "pip install serial pyserial"
   ]
  },
  {
   "cell_type": "code",
   "execution_count": 1,
   "metadata": {
    "pycharm": {
     "name": "#%%\n"
    },
    "tags": []
   },
   "outputs": [],
   "source": [
    "import serial  # библиотека для работы с serial портом\n",
    "import sys\n",
    "import numpy as np"
   ]
  },
  {
   "cell_type": "code",
   "execution_count": 2,
   "metadata": {
    "collapsed": false,
    "jupyter": {
     "outputs_hidden": false
    },
    "pycharm": {
     "name": "#%%\n"
    }
   },
   "outputs": [
    {
     "name": "stdout",
     "output_type": "stream",
     "text": [
      "['COM3']\n"
     ]
    }
   ],
   "source": [
    "def serial_ports():\n",
    "    # Определение количества и названия COM-портов\n",
    "    if sys.platform.startswith('win'):\n",
    "        ports = ['COM%s' % (i + 1) for i in range(20)]\n",
    "    else:\n",
    "        raise EnvironmentError('Unsupported platform')\n",
    "    result = []\n",
    "    for port in ports:\n",
    "        try:\n",
    "            s = serial.Serial(port)\n",
    "            s.close()\n",
    "            result.append(port)\n",
    "        except (OSError, serial.SerialException):\n",
    "            pass\n",
    "    return result\n",
    "list_comports = serial_ports()\n",
    "def connection_plata():\n",
    "    # Подключение к плате\n",
    "    speed = 115200\n",
    "    com_port = ''\n",
    "    ArduinoSerial = serial.Serial(com_port, speed, xonxoff=False, timeout = None)  # Установка параметров платы\n",
    "    return ArduinoSerial\n",
    "Arduino = connection_plata()\n",
    "def get_serial_data(send_cmd, cols, rows):\n",
    "    massive = []\n",
    "    Arduino.write(send_cmd.encode()) #Отправка данных на ардуино\n",
    "    for i in range(cols*rows):  # Тут в скобках указать размерность принимаемого массива сейчас 32 на 32.\n",
    "        data = Arduino.readline()\n",
    "        data = data.decode('UTF-8')\n",
    "        massive.append(int(data))\n",
    "    massive = np.array(massive)\n",
    "    massive = np.reshape(massive, (-1, cols)) #Для изменения размера масива, поскольку изначально все значения в 1 строку\n",
    "    #massive = massive.T\n",
    "    return np.rot90(massive, 2)\n",
    "print(list_comports)"
   ]
  },
  {
   "cell_type": "markdown",
   "metadata": {},
   "source": [
    "\"start min_fi max_fi min_tetta max_tetta points_fi points_tetta stop_time speed\"<br>\n",
    "\"start - команда запуска,<br>\n",
    "min_fi max_fi - мин/макс угол поворота,<br>\n",
    "min_tetta max_tetta - мин/макс угол наклона,<br>\n",
    "points_fi=cols - остановок при повороте,<br>\n",
    "points_tetta=rows - остановок при наклоне,<br>\n",
    "stop_time - время остановок,<br>\n",
    "speed - скорость движения серво 1...10\""
   ]
  },
  {
   "cell_type": "code",
   "execution_count": null,
   "metadata": {},
   "outputs": [],
   "source": [
    "min_fi = 70\n",
    "max_fi = 110\n",
    "min_tetta = 60\n",
    "max_tetta = 100\n",
    "k = 1\n",
    "cols = 3\n",
    "rows = 3\n",
    "stop_time = 0 #не менее 300-400 иначе не успевает измерить\n",
    "speed = 8 #желательно 8-9 иначе может не успевать измерить\n",
    "send_cmd = \"start \"+str(min_fi)+\" \"+str(max_fi)+\" \"+str(min_tetta)+\" \"+str(max_tetta)+\" \"+str(cols)+\" \"+str(rows)+\" \"+str(stop_time)+\" \"+str(speed)\n",
    "lidar_data = get_serial_data(send_cmd, cols, rows)"
   ]
  },
  {
   "cell_type": "code",
   "execution_count": 8,
   "metadata": {},
   "outputs": [
    {
     "data": {
      "image/png": "[encoded data removed]",
      "text/plain": [
       "<Figure size 640x480 with 2 Axes>"
      ]
     },
     "metadata": {},
     "output_type": "display_data"
    }
   ],
   "source": [
    "import matplotlib.pyplot as plt\n",
    "\n",
    "plt.imshow(lidar_data, cmap='hot', interpolation='nearest', )\n",
    "plt.colorbar()\n",
    "plt.show()"
   ]
  },
  {
   "cell_type": "code",
   "execution_count": 34,
   "metadata": {},
   "outputs": [
    {
     "data": {
      "text/plain": [
       "array([[ 299,  302,  289,  298, 8191,  380,  320,  285],\n",
       "       [ 275,  272,  264,  261,  281,  278,  273,  270],\n",
       "       [ 254,  248,  245,  243,  276,  265,  260,  252],\n",
       "       [ 232,  233,  230,  216,  241,  240,  237,  233]])"
      ]
     },
     "execution_count": 34,
     "metadata": {},
     "output_type": "execute_result"
    }
   ],
   "source": [
    "lidar_data"
   ]
  },
  {
   "cell_type": "code",
   "execution_count": null,
   "metadata": {},
   "outputs": [],
   "source": []
  }
 ],
 "metadata": {
  "kernelspec": {
   "display_name": "Python 3 (ipykernel)",
   "language": "python",
   "name": "python3"
  },
  "language_info": {
   "codemirror_mode": {
    "name": "ipython",
    "version": 3
   },
   "file_extension": ".py",
   "mimetype": "text/x-python",
   "name": "python",
   "nbconvert_exporter": "python",
   "pygments_lexer": "ipython3",
   "version": "3.10.6"
  }
 },
 "nbformat": 4,
 "nbformat_minor": 4
}
